{
 "cells": [
  {
   "cell_type": "code",
   "execution_count": 3,
   "id": "dc848ee0",
   "metadata": {},
   "outputs": [],
   "source": [
    "import pandas as pd\n",
    "import os"
   ]
  },
  {
   "cell_type": "code",
   "execution_count": 14,
   "id": "668d457f",
   "metadata": {},
   "outputs": [],
   "source": [
    "def convert_all_files_to_csv(data_folder, \n",
    "                             delete_excl = False, \n",
    "                             case_list = [\"cas1\", \"cas2\", \"cas3\"]):\n",
    "    for case in case_list:\n",
    "        for excl_name in os.listdir(os.path.join(data_folder, case)):\n",
    "            df = pd.read_excel(os.path.join(data_folder, case, excl_name))\n",
    "            csv_name = excl_name.replace(\".xlsx\", \".csv\")\n",
    "            df.to_csv(os.path.join(data_folder, case, csv_name))\n",
    "            if delete_excl:\n",
    "                os.remove(path=os.path.join(data_folder, case, excl_name)\n",
    "data_folder = \"/home/theaiunicorn/datasets/hackQC2022\"\n",
    "convert_all_files_to_csv(data_folder,delete_excl = True)"
   ]
  },
  {
   "cell_type": "code",
   "execution_count": null,
   "id": "64d6d9cf",
   "metadata": {},
   "outputs": [],
   "source": []
  }
 ],
 "metadata": {
  "kernelspec": {
   "display_name": "Python 3 (ipykernel)",
   "language": "python",
   "name": "python3"
  },
  "language_info": {
   "codemirror_mode": {
    "name": "ipython",
    "version": 3
   },
   "file_extension": ".py",
   "mimetype": "text/x-python",
   "name": "python",
   "nbconvert_exporter": "python",
   "pygments_lexer": "ipython3",
   "version": "3.8.10"
  },
  "toc": {
   "base_numbering": 1,
   "nav_menu": {},
   "number_sections": true,
   "sideBar": true,
   "skip_h1_title": false,
   "title_cell": "Table of Contents",
   "title_sidebar": "Contents",
   "toc_cell": false,
   "toc_position": {},
   "toc_section_display": true,
   "toc_window_display": false
  },
  "varInspector": {
   "cols": {
    "lenName": 16,
    "lenType": 16,
    "lenVar": 40
   },
   "kernels_config": {
    "python": {
     "delete_cmd_postfix": "",
     "delete_cmd_prefix": "del ",
     "library": "var_list.py",
     "varRefreshCmd": "print(var_dic_list())"
    },
    "r": {
     "delete_cmd_postfix": ") ",
     "delete_cmd_prefix": "rm(",
     "library": "var_list.r",
     "varRefreshCmd": "cat(var_dic_list()) "
    }
   },
   "types_to_exclude": [
    "module",
    "function",
    "builtin_function_or_method",
    "instance",
    "_Feature"
   ],
   "window_display": false
  }
 },
 "nbformat": 4,
 "nbformat_minor": 5
}
