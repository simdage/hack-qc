{
 "cells": [
  {
   "cell_type": "code",
   "execution_count": 12,
   "id": "a5e44c58",
   "metadata": {},
   "outputs": [],
   "source": [
    "import pandas as pd\n",
    "pd.options.mode.chained_assignment = None  # default='warn'\n",
    "import os\n",
    "import seaborn as sns\n",
    "import matplotlib\n",
    "import numpy as np\n",
    "import matplotlib.pyplot as plt\n",
    "%matplotlib inline \n",
    "import json\n",
    "from torch.utils.data import DataLoader"
   ]
  },
  {
   "cell_type": "code",
   "execution_count": 22,
   "id": "8ad92699",
   "metadata": {},
   "outputs": [],
   "source": [
    "import torch\n",
    "from torch.utils.data import Dataset\n",
    "import pandas as pd\n",
    "import os\n",
    "import numpy as np\n",
    "\n",
    "class CaseDataset(Dataset):\n",
    "    def __init__(self, \n",
    "                 path,\n",
    "                 mesure='day',\n",
    "                 sensor_idx = 0):\n",
    "        self.path = path\n",
    "        with open(os.path.join(path, 'case_summary.json'), 'r') as f:\n",
    "                self.case_summary  = json.load(f)\n",
    "        self.mesure = 'day' # only one implemented.\n",
    "        self.sensor_idx = sensor_idx\n",
    "        self.load_precipitation()\n",
    "        self.build_data()\n",
    "\n",
    "    def load_precipitation(self):\n",
    "        self.precipitation_info = self.case_summary['precipitations']\n",
    "        self.precip_raw = pd.read_csv(os.path.join(self.path, \n",
    "                                                  self.precipitation_info['file']),index_col=[0])\n",
    "    def build_data(self):\n",
    "        sensor_raw = self.case_summary['sensors'][self.sensor_idx]['raw'][0] +'_processed.csv'\n",
    "        sensor_label = self.case_summary['sensors'][self.sensor_idx]['val'][0]+'_processed.csv'\n",
    "\n",
    "        info = self.case_summary['sensors'][self.sensor_idx]['data_info'][0]\n",
    "        station_info = self.case_summary['sensors'][self.sensor_idx]['station_info']\n",
    "\n",
    "        df_raw = pd.read_csv(os.path.join(self.path, sensor_raw),index_col=[0])\n",
    "        df_val = pd.read_csv(os.path.join(self.path, sensor_label),index_col=[0])    \n",
    "        \n",
    "        df_raw.rename(columns={'value':'raw'}, inplace = True)\n",
    "        df_val.rename(columns={'value':'val'}, inplace = True)\n",
    "\n",
    "        df_merge = pd.merge(df_raw, \n",
    "                            df_val, \n",
    "                            on=['date','year','month','day','hour','minute'], \n",
    "                            how='left')\n",
    "        df_merge['raw-val'] = df_merge.apply(lambda row: row.raw - row.val, axis = 1)\n",
    "        df_merge['is_error'] = df_merge.apply(lambda row: row['raw-val']!=0, axis = 1)\n",
    "\n",
    "        if self.mesure== 'day':\n",
    "            df_merge['date'] = pd.to_datetime(df_merge['date'])\n",
    "            df_merge['date_only'] = df_merge['date'].dt.date\n",
    "            dates = df_merge['date_only'].unique()\n",
    "            self.index = dates\n",
    "        self.data = df_merge\n",
    "        \n",
    "    def __len__(self):\n",
    "        return len(self.index)\n",
    "    \n",
    "    def create_signals(self,idx):\n",
    "        this_day = self.data[self.data['date_only'] == self.index[idx]]\n",
    "        inputs = this_day['raw'].to_numpy()\n",
    "        inputs = np.expand_dims(inputs,0)\n",
    "        \n",
    "        labels = this_day['val'].to_numpy()\n",
    "        labels = np.expand_dims(labels,0)\n",
    "        return inputs, labels\n",
    "    \n",
    "    def __getitem__(self, idx):\n",
    "        inputs, labels = self.create_signals(idx)\n",
    "        inputs = torch.from_numpy(inputs).float()\n",
    "        labels = torch.from_numpy(labels).float()\n",
    "        \n",
    "        return inputs, labels"
   ]
  },
  {
   "cell_type": "code",
   "execution_count": 23,
   "id": "739cca7d",
   "metadata": {},
   "outputs": [],
   "source": [
    "cas = '3'\n",
    "path = '/home/theaiunicorn/datasets/hackQC2022/cas_'+cas\n",
    "result_path = '/home/theaiunicorn/datasets/hackQC2022/results/cas_'+cas"
   ]
  },
  {
   "cell_type": "code",
   "execution_count": 24,
   "id": "36082dbe",
   "metadata": {
    "scrolled": false
   },
   "outputs": [
    {
     "name": "stdout",
     "output_type": "stream",
     "text": [
      "gouin_so_brute_2007_2010_processed.csv\n",
      "gouin_so_valide_2007_2010_processed.csv\n",
      "                       date     raw  year  month  day  hour  minute\n",
      "0       2007-01-01 00:00:00     NaN  2007      1    1     0       0\n",
      "1       2007-01-01 00:15:00     NaN  2007      1    1     0      15\n",
      "2       2007-01-01 00:30:00     NaN  2007      1    1     0      30\n",
      "3       2007-01-01 00:45:00     NaN  2007      1    1     0      45\n",
      "4       2007-01-01 01:00:00     NaN  2007      1    1     1       0\n",
      "...                     ...     ...   ...    ...  ...   ...     ...\n",
      "105211  2009-12-31 22:45:00  403.80  2009     12   31    22      45\n",
      "105212  2009-12-31 23:00:00  403.79  2009     12   31    23       0\n",
      "105213  2009-12-31 23:15:00  403.79  2009     12   31    23      15\n",
      "105214  2009-12-31 23:30:00  403.79  2009     12   31    23      30\n",
      "105215  2009-12-31 23:45:00  403.79  2009     12   31    23      45\n",
      "\n",
      "[105216 rows x 7 columns]\n",
      "                       date     val  year  month  day  hour  minute\n",
      "0       2007-01-01 00:00:00  404.94  2007      1    1     0       0\n",
      "1       2007-01-01 00:15:00  404.94  2007      1    1     0      15\n",
      "2       2007-01-01 00:30:00  404.94  2007      1    1     0      30\n",
      "3       2007-01-01 00:45:00  404.94  2007      1    1     0      45\n",
      "4       2007-01-01 01:00:00  404.96  2007      1    1     1       0\n",
      "...                     ...     ...   ...    ...  ...   ...     ...\n",
      "105211  2009-12-31 22:45:00  403.80  2009     12   31    22      45\n",
      "105212  2009-12-31 23:00:00  403.79  2009     12   31    23       0\n",
      "105213  2009-12-31 23:15:00  403.79  2009     12   31    23      15\n",
      "105214  2009-12-31 23:30:00  403.79  2009     12   31    23      30\n",
      "105215  2009-12-31 23:45:00  403.79  2009     12   31    23      45\n",
      "\n",
      "[105216 rows x 7 columns]\n"
     ]
    }
   ],
   "source": [
    "dataset = CaseDataset(path)"
   ]
  },
  {
   "cell_type": "code",
   "execution_count": 19,
   "id": "507444dc",
   "metadata": {},
   "outputs": [
    {
     "name": "stdout",
     "output_type": "stream",
     "text": [
      "                  date  raw  year  month  day  hour  minute     val  raw-val  \\\n",
      "0  2007-01-01 00:00:00  NaN  2007      1    1     0       0  404.94      NaN   \n",
      "1  2007-01-01 00:15:00  NaN  2007      1    1     0      15  404.94      NaN   \n",
      "2  2007-01-01 00:30:00  NaN  2007      1    1     0      30  404.94      NaN   \n",
      "3  2007-01-01 00:45:00  NaN  2007      1    1     0      45  404.94      NaN   \n",
      "4  2007-01-01 01:00:00  NaN  2007      1    1     1       0  404.96      NaN   \n",
      "..                 ...  ...   ...    ...  ...   ...     ...     ...      ...   \n",
      "91 2007-01-01 22:45:00  NaN  2007      1    1    22      45  404.94      NaN   \n",
      "92 2007-01-01 23:00:00  NaN  2007      1    1    23       0  404.94      NaN   \n",
      "93 2007-01-01 23:15:00  NaN  2007      1    1    23      15  404.94      NaN   \n",
      "94 2007-01-01 23:30:00  NaN  2007      1    1    23      30  404.94      NaN   \n",
      "95 2007-01-01 23:45:00  NaN  2007      1    1    23      45  404.94      NaN   \n",
      "\n",
      "    is_error   date_only  \n",
      "0       True  2007-01-01  \n",
      "1       True  2007-01-01  \n",
      "2       True  2007-01-01  \n",
      "3       True  2007-01-01  \n",
      "4       True  2007-01-01  \n",
      "..       ...         ...  \n",
      "91      True  2007-01-01  \n",
      "92      True  2007-01-01  \n",
      "93      True  2007-01-01  \n",
      "94      True  2007-01-01  \n",
      "95      True  2007-01-01  \n",
      "\n",
      "[96 rows x 11 columns]\n"
     ]
    }
   ],
   "source": [
    "x,y = dataset.__getitem__(0)"
   ]
  },
  {
   "cell_type": "code",
   "execution_count": null,
   "id": "5f880c99",
   "metadata": {},
   "outputs": [],
   "source": []
  }
 ],
 "metadata": {
  "kernelspec": {
   "display_name": "unicorn",
   "language": "python",
   "name": "unicorn"
  },
  "language_info": {
   "codemirror_mode": {
    "name": "ipython",
    "version": 3
   },
   "file_extension": ".py",
   "mimetype": "text/x-python",
   "name": "python",
   "nbconvert_exporter": "python",
   "pygments_lexer": "ipython3",
   "version": "3.8.10"
  },
  "toc": {
   "base_numbering": 1,
   "nav_menu": {},
   "number_sections": true,
   "sideBar": true,
   "skip_h1_title": false,
   "title_cell": "Table of Contents",
   "title_sidebar": "Contents",
   "toc_cell": false,
   "toc_position": {},
   "toc_section_display": true,
   "toc_window_display": false
  },
  "varInspector": {
   "cols": {
    "lenName": 16,
    "lenType": 16,
    "lenVar": 40
   },
   "kernels_config": {
    "python": {
     "delete_cmd_postfix": "",
     "delete_cmd_prefix": "del ",
     "library": "var_list.py",
     "varRefreshCmd": "print(var_dic_list())"
    },
    "r": {
     "delete_cmd_postfix": ") ",
     "delete_cmd_prefix": "rm(",
     "library": "var_list.r",
     "varRefreshCmd": "cat(var_dic_list()) "
    }
   },
   "types_to_exclude": [
    "module",
    "function",
    "builtin_function_or_method",
    "instance",
    "_Feature"
   ],
   "window_display": false
  }
 },
 "nbformat": 4,
 "nbformat_minor": 5
}
